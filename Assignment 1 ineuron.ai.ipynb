{
 "cells": [
  {
   "cell_type": "markdown",
   "id": "06c95db2",
   "metadata": {},
   "source": [
    "1. In the below elements which of them are values or an expression? eg:- values can be integer or string and expressions will be mathematical operators.\n"
   ]
  },
  {
   "cell_type": "markdown",
   "id": "c90cafd8",
   "metadata": {},
   "source": [
    "*  = expressions\n",
    "'hello'= values\n",
    "-87.8 =  values\n",
    "- = expressions\n",
    "/ = expressions\n",
    "\n",
    "6 = values\n",
    "\n"
   ]
  },
  {
   "cell_type": "markdown",
   "id": "aaa5cb76",
   "metadata": {},
   "source": [
    "2. What is the difference between string and variable ?"
   ]
  },
  {
   "cell_type": "code",
   "execution_count": null,
   "id": "6f3d3787",
   "metadata": {},
   "outputs": [],
   "source": [
    "string = string is a sequence of characters which is stored in single quotes('') or double quotes(\"\").\n",
    "variable = variable is just like a container which is used to store the data values."
   ]
  },
  {
   "cell_type": "markdown",
   "id": "baa7eb0f",
   "metadata": {},
   "source": [
    "3. Describe three different data types ?\n"
   ]
  },
  {
   "cell_type": "code",
   "execution_count": null,
   "id": "35e97aca",
   "metadata": {},
   "outputs": [],
   "source": [
    "Three data types in python are :-\n",
    "    (i) integer data type\n",
    "    (ii) float data type\n",
    "    (iii) string data type\n",
    "    \n",
    "(i) integer data type  = it is a whole number, positive or negative, without decimals, of unlimited length.  \n",
    "(ii) float data type = it contain decimals values.\n",
    "(iii) string data type = it contains the sequence of characters."
   ]
  },
  {
   "cell_type": "markdown",
   "id": "52fb2432",
   "metadata": {},
   "source": [
    "4. What is an expression made up of? What do all expressions do?\n"
   ]
  },
  {
   "cell_type": "code",
   "execution_count": null,
   "id": "b2bdecaa",
   "metadata": {},
   "outputs": [],
   "source": [
    "An expression is a combination of operators and operands that is interpreted to produce some other value. \n",
    "an expression is evaluated as per the precedence of its operators."
   ]
  },
  {
   "cell_type": "markdown",
   "id": "e89a0d50",
   "metadata": {},
   "source": [
    "5. This assignment statements, like spam = 10. What is the difference between an expression and a statement?\n"
   ]
  },
  {
   "cell_type": "code",
   "execution_count": null,
   "id": "00d00b37",
   "metadata": {},
   "outputs": [],
   "source": [
    "Statements represent an action or command e.g print statements, assignment statements.\n",
    "Expression is a combination of variables, operations"
   ]
  },
  {
   "cell_type": "markdown",
   "id": "31da285c",
   "metadata": {},
   "source": [
    "6. After running the following code, what does the variable bacon contain?\n",
    "bacon = 22\n",
    "bacon + 1\n"
   ]
  },
  {
   "cell_type": "code",
   "execution_count": 1,
   "id": "0469688e",
   "metadata": {},
   "outputs": [
    {
     "data": {
      "text/plain": [
       "23"
      ]
     },
     "execution_count": 1,
     "metadata": {},
     "output_type": "execute_result"
    }
   ],
   "source": [
    "bacon = 22\n",
    "bacon + 1\n",
    "\n"
   ]
  },
  {
   "cell_type": "markdown",
   "id": "a770c036",
   "metadata": {},
   "source": [
    "7. What should the values of the following two terms be?\n",
    "'spam' + 'spamspam'\n",
    "'spam' * 3\n"
   ]
  },
  {
   "cell_type": "code",
   "execution_count": 2,
   "id": "71b07576",
   "metadata": {},
   "outputs": [
    {
     "data": {
      "text/plain": [
       "'spamspamspam'"
      ]
     },
     "execution_count": 2,
     "metadata": {},
     "output_type": "execute_result"
    }
   ],
   "source": [
    "'spam' + 'spamspam'\n",
    "'spam' * 3\n"
   ]
  },
  {
   "cell_type": "markdown",
   "id": "a4e3b3e4",
   "metadata": {},
   "source": [
    "8. Why is eggs a valid variable name while 100 is invalid?\n"
   ]
  },
  {
   "cell_type": "code",
   "execution_count": null,
   "id": "0c4a59b8",
   "metadata": {},
   "outputs": [],
   "source": [
    "Because variable names cannot begin with a number."
   ]
  },
  {
   "cell_type": "markdown",
   "id": "b530794d",
   "metadata": {},
   "source": [
    "9. What three functions can be used to get the integer, floating-point number, or string version of a value?\n"
   ]
  },
  {
   "cell_type": "code",
   "execution_count": null,
   "id": "3d8dc492",
   "metadata": {},
   "outputs": [],
   "source": [
    "The int() , float() , and str( ) functions will evaluate to the integer, floating-point number, and \n",
    "string versions of the value passed to them."
   ]
  },
  {
   "cell_type": "markdown",
   "id": "d8756d1b",
   "metadata": {},
   "source": [
    "10. Why does this expression cause an error? How can you fix it?\n",
    "'I have eaten ' + 99 + ' burritos.'\n",
    "\n"
   ]
  },
  {
   "cell_type": "code",
   "execution_count": null,
   "id": "7f047b8c",
   "metadata": {},
   "outputs": [],
   "source": [
    "The expression causes an error because 99 is an integer, and only strings can be \n",
    "concatenated to other strings with the + operator.\n",
    "The correct way is I have eaten ' + str(99) + ' burritos."
   ]
  },
  {
   "cell_type": "code",
   "execution_count": null,
   "id": "6ea17a58",
   "metadata": {},
   "outputs": [],
   "source": []
  }
 ],
 "metadata": {
  "kernelspec": {
   "display_name": "Python 3 (ipykernel)",
   "language": "python",
   "name": "python3"
  },
  "language_info": {
   "codemirror_mode": {
    "name": "ipython",
    "version": 3
   },
   "file_extension": ".py",
   "mimetype": "text/x-python",
   "name": "python",
   "nbconvert_exporter": "python",
   "pygments_lexer": "ipython3",
   "version": "3.9.7"
  }
 },
 "nbformat": 4,
 "nbformat_minor": 5
}
