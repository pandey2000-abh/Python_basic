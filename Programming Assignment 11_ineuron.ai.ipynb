{
 "cells": [
  {
   "cell_type": "markdown",
   "id": "f4eb6d4f",
   "metadata": {},
   "source": [
    "Write a Python program to find words which are greater than given length k?"
   ]
  },
  {
   "cell_type": "code",
   "execution_count": 3,
   "id": "f5a21abb",
   "metadata": {},
   "outputs": [
    {
     "name": "stdout",
     "output_type": "stream",
     "text": [
      "Enter the string : learn python programming at including help\n",
      "Enter k  (value for accepting string) : 5\n",
      "All words which are greater than given length  5 are  ['python', 'programming', 'including']\n"
     ]
    }
   ],
   "source": [
    "\n",
    "myStr =  input('Enter the string : ')\n",
    "k = int(input('Enter k  (value for accepting string) : '))\n",
    "largerStrings = []\n",
    "\n",
    "\n",
    "words = myStr.split(\" \")\n",
    "for word in words:\n",
    "    if len(word) > k:\n",
    "        largerStrings.append(word)\n",
    "\n",
    "\n",
    "print(\"All words which are greater than given length \", k, \"are \", largerStrings)"
   ]
  },
  {
   "cell_type": "markdown",
   "id": "15392ab7",
   "metadata": {},
   "source": [
    "Write a Python program for removing i-th character from a string?"
   ]
  },
  {
   "cell_type": "code",
   "execution_count": 4,
   "id": "c1055bfc",
   "metadata": {},
   "outputs": [
    {
     "name": "stdout",
     "output_type": "stream",
     "text": [
      "Pythnisgood\n"
     ]
    }
   ],
   "source": [
    "def remove_char(s, i):\n",
    "    a = s[ : i]\n",
    "    b = s[i + 1: ]\n",
    "\n",
    "    return a+b\n",
    "\n",
    "string = \"Pythonisgood\"\n",
    "\n",
    "i = 5\n",
    "print(remove_char(string,i-1))"
   ]
  },
  {
   "cell_type": "markdown",
   "id": "fe8352cc",
   "metadata": {},
   "source": [
    "Write a Python program to split and join a string?"
   ]
  },
  {
   "cell_type": "code",
   "execution_count": 5,
   "id": "c37ab94d",
   "metadata": {},
   "outputs": [
    {
     "name": "stdout",
     "output_type": "stream",
     "text": [
      "['Geeks', 'for', 'Geeks']\n",
      "Geeks-for-Geeks\n"
     ]
    }
   ],
   "source": [
    "\n",
    "\n",
    "def split_string(string):\n",
    "\n",
    "    list_string = string.split(' ')\n",
    "        \n",
    "    return list_string\n",
    "\n",
    "def join_string(list_string):\n",
    "\n",
    "    string = '-'.join(list_string)\n",
    "\n",
    "    return string\n",
    "\n",
    "\n",
    "if __name__ == '__main__':\n",
    "    string = 'Geeks for Geeks'\n",
    "    list_string = split_string(string)\n",
    "    print(list_string)\n",
    "\n",
    "    new_string = join_string(list_string)\n",
    "    print(new_string)\n"
   ]
  },
  {
   "cell_type": "markdown",
   "id": "bfd730e1",
   "metadata": {},
   "source": [
    "Write a Python to check if a given string is binary string or not?"
   ]
  },
  {
   "cell_type": "code",
   "execution_count": 6,
   "id": "80b6e122",
   "metadata": {},
   "outputs": [
    {
     "name": "stdout",
     "output_type": "stream",
     "text": [
      "Yes\n"
     ]
    }
   ],
   "source": [
    "\n",
    "\n",
    "\n",
    "def check(string):\n",
    "\n",
    "\n",
    "    p = set(string)\n",
    "\n",
    "\n",
    "    s = {'0', '1'}\n",
    "\n",
    "\n",
    "    if s == p or p == {'0'} or p == {'1'}:\n",
    "        print(\"Yes\")\n",
    "    else:\n",
    "        print(\"No\")\n",
    "\n",
    "\n",
    "\n",
    "if __name__ == \"__main__\":\n",
    "\n",
    "    string = \"101010000111\"\n",
    "\n",
    "    check(string)\n"
   ]
  },
  {
   "cell_type": "markdown",
   "id": "28a97b30",
   "metadata": {},
   "source": [
    "Write a Python program to find uncommon words from two Strings?\n"
   ]
  },
  {
   "cell_type": "code",
   "execution_count": 7,
   "id": "e02b74c0",
   "metadata": {},
   "outputs": [
    {
     "name": "stdout",
     "output_type": "stream",
     "text": [
      "['Learning', 'from']\n"
     ]
    }
   ],
   "source": [
    "\n",
    "\n",
    "\n",
    "def UncommonWords(A, B):\n",
    "\n",
    "\n",
    "    count = {}\n",
    "\n",
    "\n",
    "    for word in A.split():\n",
    "        count[word] = count.get(word, 0) + 1\n",
    "    for word in B.split():\n",
    "        count[word] = count.get(word, 0) + 1\n",
    "\n",
    "\n",
    "    return [word for word in count if count[word] == 1]\n",
    "\n",
    "\n",
    "# Driver Code\n",
    "A = \"Geeks for Geeks\"\n",
    "B = \"Learning from Geeks for Geeks\"\n",
    "\n",
    "# Print required answer\n",
    "print(UncommonWords(A, B))\n"
   ]
  },
  {
   "cell_type": "markdown",
   "id": "f6c538d4",
   "metadata": {},
   "source": [
    "Write a Python to find all duplicate characters in string?"
   ]
  },
  {
   "cell_type": "code",
   "execution_count": 8,
   "id": "7a966ca3",
   "metadata": {},
   "outputs": [
    {
     "name": "stdout",
     "output_type": "stream",
     "text": [
      "['g', 'e', 'k', 's']\n"
     ]
    }
   ],
   "source": [
    "def duplicate_characters(string):\n",
    "\n",
    "    chars = {}\n",
    "\n",
    "\n",
    "    for char in string:\n",
    "        if char not in chars:\n",
    "            chars[char] = 1\n",
    "        else:\n",
    "\n",
    "            chars[char] += 1\n",
    "\n",
    "\n",
    "    duplicates = []\n",
    "\n",
    "\n",
    "    for char, count in chars.items():\n",
    "        if count > 1:\n",
    "            duplicates.append(char)\n",
    "\n",
    "    return duplicates\n",
    "\n",
    "# Test cases\n",
    "print(duplicate_characters(\"geeksforgeeks\"))\n"
   ]
  },
  {
   "cell_type": "markdown",
   "id": "43488bad",
   "metadata": {},
   "source": [
    "Write a Python Program to check if a string contains any special character?"
   ]
  },
  {
   "cell_type": "code",
   "execution_count": 9,
   "id": "bab2e5a8",
   "metadata": {},
   "outputs": [
    {
     "name": "stdout",
     "output_type": "stream",
     "text": [
      "Hello15\n",
      "string is accepted\n"
     ]
    }
   ],
   "source": [
    "import re\n",
    "\n",
    "def find(string):\n",
    "    special_char=re.compile('[@_!$%^&*()<>?/\\|}{~:]#')\n",
    "    \n",
    "    if special_char.search(string) == None:\n",
    "        return \"string is accepted\"\n",
    "    else:\n",
    "        return \"string not accpeted\"\n",
    "   \n",
    "\n",
    "s=\"Hello15\"\n",
    "print(s)\n",
    "print(find(s))"
   ]
  },
  {
   "cell_type": "code",
   "execution_count": null,
   "id": "fd83f437",
   "metadata": {},
   "outputs": [],
   "source": []
  }
 ],
 "metadata": {
  "kernelspec": {
   "display_name": "Python 3 (ipykernel)",
   "language": "python",
   "name": "python3"
  },
  "language_info": {
   "codemirror_mode": {
    "name": "ipython",
    "version": 3
   },
   "file_extension": ".py",
   "mimetype": "text/x-python",
   "name": "python",
   "nbconvert_exporter": "python",
   "pygments_lexer": "ipython3",
   "version": "3.9.7"
  }
 },
 "nbformat": 4,
 "nbformat_minor": 5
}
