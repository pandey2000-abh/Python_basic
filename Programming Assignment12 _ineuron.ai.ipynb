{
 "cells": [
  {
   "cell_type": "markdown",
   "id": "715cd50f",
   "metadata": {},
   "source": [
    "Write a Python program to Extract Unique values dictionary values?"
   ]
  },
  {
   "cell_type": "code",
   "execution_count": 1,
   "id": "3b07870d",
   "metadata": {},
   "outputs": [
    {
     "name": "stdout",
     "output_type": "stream",
     "text": [
      "The original dictionary is :  {'A': [1, 3, 5, 4], 'B': [4, 6, 8, 10], 'C': [6, 12, 4, 8], 'D': [5, 7, 2]}\n",
      "The unique values list is :  [1, 2, 3, 4, 5, 6, 7, 8, 10, 12]\n"
     ]
    }
   ],
   "source": [
    "dict1 = {'A' : [1, 3, 5, 4],\n",
    "             'B' : [4, 6, 8, 10],\n",
    "             'C' : [6, 12, 4 ,8],\n",
    "             'D' : [5, 7, 2]}\n",
    "\n",
    "print(\"The original dictionary is : \" ,dict1)\n",
    "  \n",
    "\n",
    "res = list(sorted({ele for val in dict1.values() for ele in val}))\n",
    "  \n",
    "\n",
    "print(\"The unique values list is : \" , res) "
   ]
  },
  {
   "cell_type": "markdown",
   "id": "872aa3af",
   "metadata": {},
   "source": [
    "Write a Python program to find the sum of all items in a dictionary?\n"
   ]
  },
  {
   "cell_type": "code",
   "execution_count": 2,
   "id": "9c702ca0",
   "metadata": {},
   "outputs": [
    {
     "name": "stdout",
     "output_type": "stream",
     "text": [
      "Dictionary:  {'x': 455, 'y': 223, 'z': 300, 'p': 908}\n",
      "sum:  1886\n"
     ]
    }
   ],
   "source": [
    "dic={ 'x':455, 'y':223, 'z':300, 'p':908 }\n",
    "\n",
    "print(\"Dictionary: \", dic)\n",
    "\n",
    "\n",
    "print(\"sum: \",sum(dic.values()))"
   ]
  },
  {
   "cell_type": "raw",
   "id": "e1904926",
   "metadata": {},
   "source": [
    "Write a Python program to Merging two Dictionaries?\n"
   ]
  },
  {
   "cell_type": "code",
   "execution_count": 3,
   "id": "c38a6527",
   "metadata": {},
   "outputs": [
    {
     "name": "stdout",
     "output_type": "stream",
     "text": [
      "None\n",
      "{'d': 6, 'c': 4, 'a': 10, 'b': 8}\n"
     ]
    }
   ],
   "source": [
    "\n",
    "def Merge(dict1, dict2):\n",
    "    return(dict2.update(dict1))\n",
    "\n",
    "\n",
    "\n",
    "dict1 = {'a': 10, 'b': 8}\n",
    "dict2 = {'d': 6, 'c': 4}\n",
    "\n",
    "\n",
    "print(Merge(dict1, dict2))\n",
    "\n",
    "\n",
    "print(dict2)\n"
   ]
  },
  {
   "cell_type": "markdown",
   "id": "cf4ab0a6",
   "metadata": {},
   "source": [
    "Write a Python program to convert key-values list to flat dictionary?"
   ]
  },
  {
   "cell_type": "code",
   "execution_count": 4,
   "id": "67666f75",
   "metadata": {},
   "outputs": [
    {
     "name": "stdout",
     "output_type": "stream",
     "text": [
      "Original dictionary:  {'day': [1, 2, 3], 'name': ['Mon', 'Tues', 'Wed']}\n",
      "FLATTENED DICTIONARY:  {1: 'Mon', 2: 'Tues', 3: 'Wed'}\n"
     ]
    }
   ],
   "source": [
    "dic= { \"day\": [1, 2, 3], \"name\": ['Mon', 'Tues', 'Wed' ] }\n",
    "print(\"Original dictionary: \",dic)\n",
    "\n",
    "# convert to flat dictionary\n",
    "\n",
    "f_dic= dict(zip(dic[\"day\"], dic[\"name\"]))\n",
    "print(\"FLATTENED DICTIONARY: \", f_dic)"
   ]
  },
  {
   "cell_type": "markdown",
   "id": "96c515d5",
   "metadata": {},
   "source": [
    "Write a Python program to insertion at the beginning in OrderedDict?\n"
   ]
  },
  {
   "cell_type": "code",
   "execution_count": 5,
   "id": "682b3c27",
   "metadata": {},
   "outputs": [
    {
     "name": "stdout",
     "output_type": "stream",
     "text": [
      "Resultant Dictionary :\n",
      "OrderedDict([('D', '400'), ('A', '100'), ('B', '200'), ('C', '300')])\n"
     ]
    }
   ],
   "source": [
    "from collections import OrderedDict\n",
    "dic1 = OrderedDict([('A', '100'), ('B', '200'), ('C', '300')])\n",
    "insrt = OrderedDict([(\"D\", '400')])\n",
    "  \n",
    "final = OrderedDict(list(insrt.items()) + list(dic1.items()))\n",
    "  \n",
    "# print result\n",
    "print (\"Resultant Dictionary :\")\n",
    "print(final)"
   ]
  },
  {
   "cell_type": "markdown",
   "id": "3f4d3399",
   "metadata": {},
   "source": [
    "Write a Python program to check order of character in string using OrderedDict()?"
   ]
  },
  {
   "cell_type": "code",
   "execution_count": 6,
   "id": "e26c947b",
   "metadata": {},
   "outputs": [
    {
     "name": "stdout",
     "output_type": "stream",
     "text": [
      "The string is \n",
      "Hi Mark\n",
      "The input pattern is \n",
      "Ma\n",
      "The order of pattern is correct\n"
     ]
    }
   ],
   "source": [
    "from collections import OrderedDict\n",
    "def check_order(my_input, my_pattern):\n",
    "   my_dict = OrderedDict.fromkeys(my_input)\n",
    "   pattern_length = 0\n",
    "   for key,value in my_dict.items():\n",
    "      if (key == my_pattern[pattern_length]):\n",
    "         pattern_length = pattern_length + 1\n",
    "\n",
    "      if (pattern_length == (len(my_pattern))):\n",
    "         return 'The order of pattern is correct'\n",
    "\n",
    "   return 'The order of pattern is incorrect'\n",
    "\n",
    "my_input = 'Hi Mark'\n",
    "input_pattern = 'Ma'\n",
    "print(\"The string is \")\n",
    "print(my_input)\n",
    "print(\"The input pattern is \")\n",
    "print(input_pattern)\n",
    "print(check_order(my_input,input_pattern))"
   ]
  },
  {
   "cell_type": "markdown",
   "id": "997306e7",
   "metadata": {},
   "source": [
    "Write a Python program to sort Python Dictionaries by Key or Value?"
   ]
  },
  {
   "cell_type": "code",
   "execution_count": 7,
   "id": "0bc3aabe",
   "metadata": {},
   "outputs": [
    {
     "name": "stdout",
     "output_type": "stream",
     "text": [
      "sorting on the basis of keys\n",
      "(1, 43) (2, 9) (3, 8) (4, 23) (5, 10) (6, 77) "
     ]
    }
   ],
   "source": [
    "key_value={}\n",
    "\n",
    "key_value[5] = 10      \n",
    "key_value[3] = 8\n",
    "key_value[6] = 77\n",
    "key_value[4] = 23\n",
    "key_value[2] = 9     \n",
    "key_value[1] = 43\n",
    " \n",
    "print(\"sorting on the basis of keys\")\n",
    "\n",
    "for i in sorted(key_value) :\n",
    "    print ((i, key_value[i]), end =\" \")"
   ]
  },
  {
   "cell_type": "code",
   "execution_count": null,
   "id": "972588ab",
   "metadata": {},
   "outputs": [],
   "source": []
  }
 ],
 "metadata": {
  "kernelspec": {
   "display_name": "Python 3 (ipykernel)",
   "language": "python",
   "name": "python3"
  },
  "language_info": {
   "codemirror_mode": {
    "name": "ipython",
    "version": 3
   },
   "file_extension": ".py",
   "mimetype": "text/x-python",
   "name": "python",
   "nbconvert_exporter": "python",
   "pygments_lexer": "ipython3",
   "version": "3.9.7"
  }
 },
 "nbformat": 4,
 "nbformat_minor": 5
}
