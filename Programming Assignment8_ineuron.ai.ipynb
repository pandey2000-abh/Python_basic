{
 "cells": [
  {
   "cell_type": "markdown",
   "id": "083e9166",
   "metadata": {},
   "source": [
    "Write a Python Program to Add Two Matrices?"
   ]
  },
  {
   "cell_type": "code",
   "execution_count": 1,
   "id": "cacd9a82",
   "metadata": {},
   "outputs": [
    {
     "name": "stdout",
     "output_type": "stream",
     "text": [
      "[17, 15, 4]\n",
      "[10, 12, 9]\n",
      "[11, 13, 18]\n"
     ]
    }
   ],
   "source": [
    "\n",
    "\n",
    "X = [[12,7,3],\n",
    "    [4 ,5,6],\n",
    "    [7 ,8,9]]\n",
    "\n",
    "Y = [[5,8,1],\n",
    "    [6,7,3],\n",
    "    [4,5,9]]\n",
    "\n",
    "result = [[0,0,0],\n",
    "         [0,0,0],\n",
    "         [0,0,0]]\n",
    "\n",
    "\n",
    "for i in range(len(X)):\n",
    "   \n",
    "   for j in range(len(X[0])):\n",
    "       result[i][j] = X[i][j] + Y[i][j]\n",
    "\n",
    "for r in result:\n",
    "   print(r)\n"
   ]
  },
  {
   "cell_type": "code",
   "execution_count": 2,
   "id": "c0ebcf74",
   "metadata": {},
   "outputs": [
    {
     "name": "stdout",
     "output_type": "stream",
     "text": [
      "[114, 160, 60, 27]\n",
      "[74, 97, 73, 14]\n",
      "[119, 157, 112, 23]\n"
     ]
    }
   ],
   "source": [
    "\n",
    "X = [[12,7,3],\n",
    "    [4 ,5,6],\n",
    "    [7 ,8,9]]\n",
    "\n",
    "Y = [[5,8,1,2],\n",
    "    [6,7,3,0],\n",
    "    [4,5,9,1]]\n",
    "\n",
    "result = [[0,0,0,0],\n",
    "         [0,0,0,0],\n",
    "         [0,0,0,0]]\n",
    "for i in range(len(X)):\n",
    "   \n",
    "   for j in range(len(Y[0])):\n",
    "       \n",
    "       for k in range(len(Y)):\n",
    "           result[i][j] += X[i][k] * Y[k][j]\n",
    "\n",
    "for r in result:\n",
    "   print(r)\n"
   ]
  },
  {
   "cell_type": "markdown",
   "id": "5e751dcc",
   "metadata": {},
   "source": [
    "Write a Python Program to Transpose a Matrix?"
   ]
  },
  {
   "cell_type": "code",
   "execution_count": 3,
   "id": "c2b18b10",
   "metadata": {},
   "outputs": [
    {
     "name": "stdout",
     "output_type": "stream",
     "text": [
      "[12, 4, 3]\n",
      "[7, 5, 8]\n"
     ]
    }
   ],
   "source": [
    "\n",
    "X = [[12,7],\n",
    "    [4 ,5],\n",
    "    [3 ,8]]\n",
    "\n",
    "result = [[0,0,0],\n",
    "         [0,0,0]]\n",
    "\n",
    "for i in range(len(X)):\n",
    "   \n",
    "   for j in range(len(X[0])):\n",
    "       result[j][i] = X[i][j]\n",
    "\n",
    "for r in result:\n",
    "   print(r)\n"
   ]
  },
  {
   "cell_type": "markdown",
   "id": "59ea99a7",
   "metadata": {},
   "source": [
    "Write a Python Program to Sort Words in Alphabetic Order?"
   ]
  },
  {
   "cell_type": "code",
   "execution_count": 4,
   "id": "3a7a5d78",
   "metadata": {},
   "outputs": [
    {
     "name": "stdout",
     "output_type": "stream",
     "text": [
      "The sorted words are:\n",
      "an\n",
      "cased\n",
      "example\n",
      "hello\n",
      "is\n",
      "letters\n",
      "this\n",
      "with\n"
     ]
    }
   ],
   "source": [
    "\n",
    "my_str = \"Hello this Is an Example With cased letters\"\n",
    "words = [word.lower() for word in my_str.split()]\n",
    "words.sort()\n",
    "print(\"The sorted words are:\")\n",
    "for word in words:\n",
    "   print(word)\n"
   ]
  },
  {
   "cell_type": "markdown",
   "id": "7f361601",
   "metadata": {},
   "source": [
    "Write a Python Program to Remove Punctuation From a String?"
   ]
  },
  {
   "cell_type": "code",
   "execution_count": 5,
   "id": "8df42416",
   "metadata": {},
   "outputs": [
    {
     "name": "stdout",
     "output_type": "stream",
     "text": [
      "Hello he said and went\n"
     ]
    }
   ],
   "source": [
    "\n",
    "punctuations = '''!()-[]{};:'\"\\,<>./?@#$%^&*_~'''\n",
    "\n",
    "my_str = \"Hello!!!, he said ---and went.\"\n",
    "no_punct = \"\"\n",
    "for char in my_str:\n",
    "   if char not in punctuations:\n",
    "       no_punct = no_punct + char\n",
    "\n",
    "\n",
    "print(no_punct)\n"
   ]
  },
  {
   "cell_type": "code",
   "execution_count": null,
   "id": "7fc9a0f9",
   "metadata": {},
   "outputs": [],
   "source": []
  }
 ],
 "metadata": {
  "kernelspec": {
   "display_name": "Python 3 (ipykernel)",
   "language": "python",
   "name": "python3"
  },
  "language_info": {
   "codemirror_mode": {
    "name": "ipython",
    "version": 3
   },
   "file_extension": ".py",
   "mimetype": "text/x-python",
   "name": "python",
   "nbconvert_exporter": "python",
   "pygments_lexer": "ipython3",
   "version": "3.9.7"
  }
 },
 "nbformat": 4,
 "nbformat_minor": 5
}
