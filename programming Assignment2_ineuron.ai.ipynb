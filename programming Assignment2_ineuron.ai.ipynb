{
 "cells": [
  {
   "cell_type": "markdown",
   "id": "dc7a2277",
   "metadata": {},
   "source": [
    "Write a Python program to convert kilometers to miles?"
   ]
  },
  {
   "cell_type": "code",
   "execution_count": 2,
   "id": "21b1a9c4",
   "metadata": {},
   "outputs": [
    {
     "name": "stdout",
     "output_type": "stream",
     "text": [
      "Enter the value in Kilometers:  3.5\n",
      "3.5 kilometers is converted in  miles are: 2.1747985\n"
     ]
    }
   ],
   "source": [
    "kilometers = float(input(\"Enter the value in Kilometers:  \"))\n",
    "#conversion Factor\n",
    "conv_fact = 0.621371\n",
    "miles = kilometers * conv_fact\n",
    "print(f\"{kilometers} kilometers is converted in  miles are: {miles}\")"
   ]
  },
  {
   "cell_type": "markdown",
   "id": "afb43661",
   "metadata": {},
   "source": [
    "Write a Python program to convert Celsius to Fahrenheit?"
   ]
  },
  {
   "cell_type": "code",
   "execution_count": 3,
   "id": "a75f3cdb",
   "metadata": {},
   "outputs": [
    {
     "name": "stdout",
     "output_type": "stream",
     "text": [
      "Enter the Temperature in Celsius:  50\n",
      "Celsius : 50.0 are equal to Fahrenheit : 122.0\n"
     ]
    }
   ],
   "source": [
    "Celsius = float(input(\"Enter the Temperature in Celsius:  \"))\n",
    "Fahrenheit = (Celsius * 1.8) + 32\n",
    "print(f\"Celsius : {Celsius} are equal to Fahrenheit : {Fahrenheit}\")\n"
   ]
  },
  {
   "cell_type": "markdown",
   "id": "2fa43b1a",
   "metadata": {},
   "source": [
    "Write a Python program to display calendar?\n"
   ]
  },
  {
   "cell_type": "code",
   "execution_count": 6,
   "id": "98c44a0e",
   "metadata": {},
   "outputs": [
    {
     "name": "stdout",
     "output_type": "stream",
     "text": [
      "Enter the Year: 2023\n",
      "Enter the month: 5\n",
      "      May 2023\n",
      "Mo Tu We Th Fr Sa Su\n",
      " 1  2  3  4  5  6  7\n",
      " 8  9 10 11 12 13 14\n",
      "15 16 17 18 19 20 21\n",
      "22 23 24 25 26 27 28\n",
      "29 30 31\n",
      "\n"
     ]
    }
   ],
   "source": [
    "import calendar\n",
    "year = int(input(\"Enter the Year: \"))\n",
    "month = int(input(\"Enter the month: \"))\n",
    "print(calendar.month(year,month))"
   ]
  },
  {
   "cell_type": "markdown",
   "id": "eae92d42",
   "metadata": {},
   "source": [
    "Write a Python program to solve quadratic equation?\n"
   ]
  },
  {
   "cell_type": "code",
   "execution_count": 7,
   "id": "e187cd36",
   "metadata": {},
   "outputs": [
    {
     "name": "stdout",
     "output_type": "stream",
     "text": [
      "Enter the value of a:  8\n",
      "Enter the value of b : 5\n",
      "Enter the value of c:  9\n",
      "The solution are (-0.3125-1.0135796712641785j) and (-0.3125+1.0135796712641785j)\n"
     ]
    }
   ],
   "source": [
    "import cmath\n",
    "a = float(input(\"Enter the value of a:  \"))\n",
    "b = float(input(\"Enter the value of b : \"))\n",
    "c = float(input(\"Enter the value of c:  \"))\n",
    "d = (b**2)-(4*a*c)\n",
    "sol1 = (-b-cmath.sqrt(d))/(2*a)\n",
    "sol2 = (-b+cmath.sqrt(d))/(2*a)\n",
    "print(f\"The solution are {sol1} and {sol2}\")"
   ]
  },
  {
   "cell_type": "markdown",
   "id": "8be89309",
   "metadata": {},
   "source": [
    "Write a Python program to swap two variables without temp variable?\n"
   ]
  },
  {
   "cell_type": "code",
   "execution_count": 10,
   "id": "809f1572",
   "metadata": {},
   "outputs": [
    {
     "name": "stdout",
     "output_type": "stream",
     "text": [
      "Enter the value of X: 5\n",
      "Enter the value of Y:  8\n",
      "Before Swaping Value of X: 5 and Y : 8\n",
      "After Swaping Value of X: 8 and Y: 5\n"
     ]
    }
   ],
   "source": [
    "x = int(input(\"Enter the value of X: \"))\n",
    "y = int(input(\"Enter the value of Y:  \"))\n",
    "print(f\"Before Swaping Value of X: {x} and Y : {y}\")\n",
    "x,y = y,x\n",
    "print(f\"After Swaping Value of X: {x} and Y: {y}\")"
   ]
  },
  {
   "cell_type": "code",
   "execution_count": null,
   "id": "1cb08888",
   "metadata": {},
   "outputs": [],
   "source": []
  }
 ],
 "metadata": {
  "kernelspec": {
   "display_name": "Python 3 (ipykernel)",
   "language": "python",
   "name": "python3"
  },
  "language_info": {
   "codemirror_mode": {
    "name": "ipython",
    "version": 3
   },
   "file_extension": ".py",
   "mimetype": "text/x-python",
   "name": "python",
   "nbconvert_exporter": "python",
   "pygments_lexer": "ipython3",
   "version": "3.9.7"
  }
 },
 "nbformat": 4,
 "nbformat_minor": 5
}
