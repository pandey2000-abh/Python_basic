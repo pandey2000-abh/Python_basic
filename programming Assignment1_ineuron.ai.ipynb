{
 "cells": [
  {
   "cell_type": "markdown",
   "id": "00a69f9c",
   "metadata": {},
   "source": [
    "Write a Python program to print \"Hello Python\"?"
   ]
  },
  {
   "cell_type": "code",
   "execution_count": 1,
   "id": "738f542c",
   "metadata": {},
   "outputs": [
    {
     "name": "stdout",
     "output_type": "stream",
     "text": [
      "Hello Python\n"
     ]
    }
   ],
   "source": [
    "print(\"Hello Python\")"
   ]
  },
  {
   "cell_type": "markdown",
   "id": "818ce57c",
   "metadata": {},
   "source": [
    "Write a Python program to do arithmetical operations addition and division.?"
   ]
  },
  {
   "cell_type": "code",
   "execution_count": 3,
   "id": "ea0bd331",
   "metadata": {},
   "outputs": [
    {
     "name": "stdout",
     "output_type": "stream",
     "text": [
      "Enter the first number:  8\n",
      "Enter the Second number:  2\n",
      "Addition of the 8 and 2 are: 10 \n",
      "division of the 8 and 2 are: 4.0 \n"
     ]
    }
   ],
   "source": [
    "num1 = int(input(\"Enter the first number:  \"))\n",
    "num2 = int(input(\"Enter the Second number:  \"))\n",
    "add = num1 + num2\n",
    "div = num1 / num2\n",
    "print(f\"Addition of the {num1} and {num2} are: {add} \")\n",
    "print(f\"division of the {num1} and {num2} are: {div} \")\n"
   ]
  },
  {
   "cell_type": "markdown",
   "id": "6a405074",
   "metadata": {},
   "source": [
    "Write a Python program to find the area of a triangle?"
   ]
  },
  {
   "cell_type": "code",
   "execution_count": 4,
   "id": "bbe27430",
   "metadata": {},
   "outputs": [
    {
     "name": "stdout",
     "output_type": "stream",
     "text": [
      "Enter the first side: 5\n",
      "Enter the second side: 6\n",
      "Enter the Third side:  7\n",
      "Area of the Traingle are: 14.696938456699069 \n"
     ]
    }
   ],
   "source": [
    "a = int(input(\"Enter the first side: \"))\n",
    "b = int(input(\"Enter the second side: \"))\n",
    "c = int(input(\"Enter the Third side:  \"))\n",
    "s = (a + b + c)/2\n",
    "area = (s*(s-a)*(s-b)*(s-c))**0.5\n",
    "print(f\"Area of the Traingle are: {area} \")"
   ]
  },
  {
   "cell_type": "markdown",
   "id": "ed0ddce5",
   "metadata": {},
   "source": [
    "Write a Python program to swap two variables?\n"
   ]
  },
  {
   "cell_type": "code",
   "execution_count": 5,
   "id": "2530954e",
   "metadata": {},
   "outputs": [
    {
     "name": "stdout",
     "output_type": "stream",
     "text": [
      "Enter the value of A: 5\n",
      "Enter the value of B: 6\n",
      "Value of A are 6\n",
      "Value of B are 5\n"
     ]
    }
   ],
   "source": [
    "A = int(input(\"Enter the value of A: \"))\n",
    "B = int(input(\"Enter the value of B: \"))\n",
    "temp = A\n",
    "A = B\n",
    "B = temp\n",
    "print(f\"Value of A are {A}\")\n",
    "print(f\"Value of B are {B}\")"
   ]
  },
  {
   "cell_type": "markdown",
   "id": "fc32af79",
   "metadata": {},
   "source": [
    "Write a Python program to generate a random number?"
   ]
  },
  {
   "cell_type": "code",
   "execution_count": 8,
   "id": "5ab96c40",
   "metadata": {},
   "outputs": [
    {
     "name": "stdout",
     "output_type": "stream",
     "text": [
      "1\n"
     ]
    }
   ],
   "source": [
    "import random\n",
    "print(random.randint(0,10))"
   ]
  },
  {
   "cell_type": "code",
   "execution_count": null,
   "id": "ca2ab1b5",
   "metadata": {},
   "outputs": [],
   "source": []
  }
 ],
 "metadata": {
  "kernelspec": {
   "display_name": "Python 3 (ipykernel)",
   "language": "python",
   "name": "python3"
  },
  "language_info": {
   "codemirror_mode": {
    "name": "ipython",
    "version": 3
   },
   "file_extension": ".py",
   "mimetype": "text/x-python",
   "name": "python",
   "nbconvert_exporter": "python",
   "pygments_lexer": "ipython3",
   "version": "3.9.7"
  }
 },
 "nbformat": 4,
 "nbformat_minor": 5
}
