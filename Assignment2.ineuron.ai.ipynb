{
 "cells": [
  {
   "cell_type": "markdown",
   "id": "41b7d287",
   "metadata": {},
   "source": [
    "1.What are the two values of the Boolean data type? How do you write them?\n"
   ]
  },
  {
   "cell_type": "code",
   "execution_count": null,
   "id": "66d14186",
   "metadata": {},
   "outputs": [],
   "source": [
    "A variable of the primitive data type boolean can have two values: true and false .\n",
    "Boolean expressions use relational and logical operators.\n",
    "The result of a Boolean expression is either true or false."
   ]
  },
  {
   "cell_type": "markdown",
   "id": "d6461cff",
   "metadata": {},
   "source": [
    "2. What are the three different types of Boolean operators?\n"
   ]
  },
  {
   "cell_type": "code",
   "execution_count": null,
   "id": "36165ff7",
   "metadata": {},
   "outputs": [],
   "source": [
    "The Three different types of boolean operators are: AND, OR, and NOT."
   ]
  },
  {
   "cell_type": "markdown",
   "id": "dd2c4c20",
   "metadata": {},
   "source": [
    "3. Make a list of each Boolean operator's truth tables (i.e. every possible combination of Boolean values \n",
    "for the operator and what it evaluate ).\n"
   ]
  },
  {
   "cell_type": "code",
   "execution_count": null,
   "id": "29291048",
   "metadata": {},
   "outputs": [],
   "source": [
    "\n",
    "\n",
    "(e.g., X)\tNOT Y\n",
    "(e.g., Y)\tNOT X\n",
    "( ~ X )\tX AND Y\n",
    "( X && Y )\tX OR Y\n",
    "( X || Y )\n",
    "false\tfalse\ttrue\tfalse\tfalse\n",
    "false\ttrue\ttrue\tfalse\ttrue\n",
    "true\tfalse\tfalse\tfalse\ttrue\n",
    "true\ttrue\tfalse\ttrue\ttrue\n",
    " "
   ]
  },
  {
   "cell_type": "markdown",
   "id": "e39ad56d",
   "metadata": {},
   "source": [
    "4. What are the values of the following expressions?"
   ]
  },
  {
   "cell_type": "code",
   "execution_count": 1,
   "id": "2c695a32",
   "metadata": {},
   "outputs": [
    {
     "data": {
      "text/plain": [
       "False"
      ]
     },
     "execution_count": 1,
     "metadata": {},
     "output_type": "execute_result"
    }
   ],
   "source": [
    "(5 > 4) and (3 == 5) "
   ]
  },
  {
   "cell_type": "code",
   "execution_count": 2,
   "id": "1f60f7af",
   "metadata": {},
   "outputs": [
    {
     "data": {
      "text/plain": [
       "False"
      ]
     },
     "execution_count": 2,
     "metadata": {},
     "output_type": "execute_result"
    }
   ],
   "source": [
    "not (5 > 4) "
   ]
  },
  {
   "cell_type": "code",
   "execution_count": 3,
   "id": "8ee3c808",
   "metadata": {},
   "outputs": [
    {
     "data": {
      "text/plain": [
       "True"
      ]
     },
     "execution_count": 3,
     "metadata": {},
     "output_type": "execute_result"
    }
   ],
   "source": [
    "(5 > 4) or (3 == 5)"
   ]
  },
  {
   "cell_type": "code",
   "execution_count": 4,
   "id": "7ab1cc6d",
   "metadata": {},
   "outputs": [
    {
     "data": {
      "text/plain": [
       "False"
      ]
     },
     "execution_count": 4,
     "metadata": {},
     "output_type": "execute_result"
    }
   ],
   "source": [
    "not ((5 > 4) or (3 == 5))"
   ]
  },
  {
   "cell_type": "code",
   "execution_count": 5,
   "id": "53db2819",
   "metadata": {},
   "outputs": [
    {
     "data": {
      "text/plain": [
       "False"
      ]
     },
     "execution_count": 5,
     "metadata": {},
     "output_type": "execute_result"
    }
   ],
   "source": [
    "(True and True) and (True == False) "
   ]
  },
  {
   "cell_type": "code",
   "execution_count": 6,
   "id": "4dc22358",
   "metadata": {},
   "outputs": [
    {
     "data": {
      "text/plain": [
       "True"
      ]
     },
     "execution_count": 6,
     "metadata": {},
     "output_type": "execute_result"
    }
   ],
   "source": [
    "(not False) or (not True)"
   ]
  },
  {
   "cell_type": "markdown",
   "id": "7b2e0968",
   "metadata": {},
   "source": [
    "5. What are the six comparison operators?\n"
   ]
  },
  {
   "cell_type": "code",
   "execution_count": null,
   "id": "2e957a05",
   "metadata": {},
   "outputs": [],
   "source": [
    " The six comparison operators are- \n",
    "    less than, \n",
    "    greater than, \n",
    "    less than or equal to, \n",
    "    greater than or equal to,\n",
    "    equal to, \n",
    "    and not equal to"
   ]
  },
  {
   "cell_type": "markdown",
   "id": "406129f3",
   "metadata": {},
   "source": [
    "6. How do you tell the difference between the equal to and assignment operators?Describe a condition and when you would use one.\n"
   ]
  },
  {
   "cell_type": "code",
   "execution_count": null,
   "id": "27db49b6",
   "metadata": {},
   "outputs": [],
   "source": [
    "it's cleared that ,both are not same (=) is an Assignment Operator \n",
    "it is used to assign the value of variable or \n",
    "expression, while (==) is an Equal to Operator and it is a relation operator used for comparison \n",
    "(to compare value of both left and right side operands)"
   ]
  },
  {
   "cell_type": "markdown",
   "id": "65b88cee",
   "metadata": {},
   "source": [
    "7. Identify the three blocks in this code:\n",
    "\n"
   ]
  },
  {
   "cell_type": "code",
   "execution_count": 8,
   "id": "1ce18c31",
   "metadata": {},
   "outputs": [
    {
     "name": "stdout",
     "output_type": "stream",
     "text": [
      "ham\n",
      "spam\n",
      "spam\n"
     ]
    }
   ],
   "source": [
    "spam = 0\n",
    "if spam == 10:\n",
    "    print('eggs')\n",
    "if spam > 5:\n",
    "    print('bacon')\n",
    "else:\n",
    "    print('ham')\n",
    "    print('spam')\n",
    "    print('spam')\n"
   ]
  },
  {
   "cell_type": "markdown",
   "id": "884bc46b",
   "metadata": {},
   "source": [
    "8. Write code that prints Hello if 1 is stored in spam, prints Howdy if 2 is stored in spam, and prints Greetings! if anything else is stored in spam.\n",
    "\n"
   ]
  },
  {
   "cell_type": "code",
   "execution_count": 16,
   "id": "34ac6bb8",
   "metadata": {},
   "outputs": [
    {
     "name": "stdout",
     "output_type": "stream",
     "text": [
      "3\n",
      "Greetings!\n"
     ]
    }
   ],
   "source": [
    "spam = int(input())\n",
    "if spam == 1:\n",
    "    print('Hello')\n",
    "elif spam == 2:\n",
    "    print('howdy')\n",
    "else:\n",
    "    print('Greetings!')"
   ]
  },
  {
   "cell_type": "markdown",
   "id": "c8b5be7f",
   "metadata": {},
   "source": [
    "9.If your programme is stuck in an endless loop, what keys you’ll press?\n"
   ]
  },
  {
   "cell_type": "code",
   "execution_count": null,
   "id": "aa1d6c63",
   "metadata": {},
   "outputs": [],
   "source": [
    "An infinite loop is a loop that runs indefinitely and it only stops with external intervention or \n",
    "when a break statement is found.\n",
    "We can stop an infinite loop with CTRL + C"
   ]
  },
  {
   "cell_type": "markdown",
   "id": "e238bdbb",
   "metadata": {},
   "source": [
    "10. How can you tell the difference between break and continue?\n"
   ]
  },
  {
   "cell_type": "code",
   "execution_count": null,
   "id": "134b44ad",
   "metadata": {},
   "outputs": [],
   "source": [
    "BREAK => The Break statement is used to control the flow of program.\n",
    "CONTINUE => The Continue statement is used to skip the rest of the code inside a loop for the current iteration only."
   ]
  },
  {
   "cell_type": "markdown",
   "id": "5fcd0167",
   "metadata": {},
   "source": [
    "11. In a for loop, what is the difference between range(10), range(0, 10), and range(0, 10, 1)?\n"
   ]
  },
  {
   "cell_type": "code",
   "execution_count": 17,
   "id": "66ff4177",
   "metadata": {},
   "outputs": [
    {
     "name": "stdout",
     "output_type": "stream",
     "text": [
      "0\n",
      "1\n",
      "2\n",
      "3\n",
      "4\n",
      "5\n",
      "6\n",
      "7\n",
      "8\n",
      "9\n"
     ]
    }
   ],
   "source": [
    "#range(10) => it will print 0,1,2,3,4,5,6,7,8,9 because 10 is the stoping number(0 to 9)\n",
    "for i in range(10):\n",
    "    print(i)"
   ]
  },
  {
   "cell_type": "code",
   "execution_count": 23,
   "id": "dfd5c4ed",
   "metadata": {},
   "outputs": [
    {
     "name": "stdout",
     "output_type": "stream",
     "text": [
      "0\n",
      "1\n",
      "2\n",
      "3\n",
      "4\n",
      "5\n",
      "6\n",
      "7\n",
      "8\n",
      "9\n"
     ]
    }
   ],
   "source": [
    "'''range(0,10) => it will print 0,1,2,3,4,5,6,7,8,9 because 10 is the stoping number(0 to 9) from 0 is will start\n",
    "and 10 it will stop'''\n",
    "for i in range(0,10):\n",
    "    print(i)"
   ]
  },
  {
   "cell_type": "code",
   "execution_count": 22,
   "id": "cffb25c4",
   "metadata": {},
   "outputs": [
    {
     "name": "stdout",
     "output_type": "stream",
     "text": [
      "0\n",
      "1\n",
      "2\n",
      "3\n",
      "4\n",
      "5\n",
      "6\n",
      "7\n",
      "8\n",
      "9\n"
     ]
    }
   ],
   "source": [
    "'''range(0, 10, 1) => it will print 0 to 9 and it will skip 1 because from 0 it will start and 10\n",
    "it will stop and it will skip by 1.'''\n",
    "for i in range(0,10,1):\n",
    "    print(i)"
   ]
  },
  {
   "cell_type": "markdown",
   "id": "58628d87",
   "metadata": {},
   "source": [
    "12. Write a short program that prints the numbers 1 to 10 using a for loop. Then write an equivalent program that prints the numbers 1 to 10 using a while loop.\n"
   ]
  },
  {
   "cell_type": "code",
   "execution_count": 24,
   "id": "eb86fda5",
   "metadata": {},
   "outputs": [
    {
     "name": "stdout",
     "output_type": "stream",
     "text": [
      "0\n",
      "1\n",
      "2\n",
      "3\n",
      "4\n",
      "5\n",
      "6\n",
      "7\n",
      "8\n",
      "9\n",
      "10\n"
     ]
    }
   ],
   "source": [
    "for i in range(0,11):\n",
    "    print(i)"
   ]
  },
  {
   "cell_type": "code",
   "execution_count": 35,
   "id": "bb80c4fd",
   "metadata": {},
   "outputs": [
    {
     "name": "stdout",
     "output_type": "stream",
     "text": [
      "1\n",
      "2\n",
      "3\n",
      "4\n",
      "5\n",
      "6\n",
      "7\n",
      "8\n",
      "9\n",
      "10\n"
     ]
    }
   ],
   "source": [
    "i = 1\n",
    "while (i<=10):\n",
    "    print(i)\n",
    "    i+=1\n",
    "    "
   ]
  },
  {
   "cell_type": "markdown",
   "id": "797139ac",
   "metadata": {},
   "source": [
    "13. If you had a function named bacon() inside a module named spam, how would you call it after importing spam?\n"
   ]
  },
  {
   "cell_type": "code",
   "execution_count": null,
   "id": "4e9f72a9",
   "metadata": {},
   "outputs": [],
   "source": [
    "This function can be called with spam.bacon()."
   ]
  },
  {
   "cell_type": "code",
   "execution_count": null,
   "id": "4752fb70",
   "metadata": {},
   "outputs": [],
   "source": []
  }
 ],
 "metadata": {
  "kernelspec": {
   "display_name": "Python 3 (ipykernel)",
   "language": "python",
   "name": "python3"
  },
  "language_info": {
   "codemirror_mode": {
    "name": "ipython",
    "version": 3
   },
   "file_extension": ".py",
   "mimetype": "text/x-python",
   "name": "python",
   "nbconvert_exporter": "python",
   "pygments_lexer": "ipython3",
   "version": "3.9.7"
  }
 },
 "nbformat": 4,
 "nbformat_minor": 5
}
