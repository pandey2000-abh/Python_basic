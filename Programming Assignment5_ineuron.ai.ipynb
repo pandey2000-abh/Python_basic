{
 "cells": [
  {
   "cell_type": "markdown",
   "id": "31d59bfa",
   "metadata": {},
   "source": [
    "Write a Python Program to Find LCM?"
   ]
  },
  {
   "cell_type": "code",
   "execution_count": 4,
   "id": "1b5cde6a",
   "metadata": {},
   "outputs": [],
   "source": [
    "def lcm(x,y):\n",
    "    if x > y :\n",
    "        greater = x\n",
    "    else:\n",
    "        greater = y\n",
    "    while(True):\n",
    "        if((greater % x == 0) and (greater % y == 0)):\n",
    "            lcm = greater\n",
    "            break\n",
    "        greater += 1\n",
    "    return lcm\n",
    "        \n",
    "            "
   ]
  },
  {
   "cell_type": "code",
   "execution_count": 8,
   "id": "6287e6ee",
   "metadata": {},
   "outputs": [
    {
     "name": "stdout",
     "output_type": "stream",
     "text": [
      "Enter first number:  4\n",
      "Enter second number:  3\n",
      "The L.C.M  4 and 3 are 12\n"
     ]
    }
   ],
   "source": [
    "num1 = int(input(\"Enter first number:  \"))\n",
    "num2 = int(input(\"Enter second number:  \"))\n",
    "print(\"The L.C.M \",num1,\"and\",num2,\"are\",lcm(num1,num2))"
   ]
  },
  {
   "cell_type": "markdown",
   "id": "fcb9e2cc",
   "metadata": {},
   "source": [
    "Write a Python Program to Find HCF?"
   ]
  },
  {
   "cell_type": "code",
   "execution_count": 11,
   "id": "17c1185f",
   "metadata": {},
   "outputs": [],
   "source": [
    "def hcf(x,y):\n",
    "    if x > y :\n",
    "        smaller = x\n",
    "    else:\n",
    "        smaller = y\n",
    "    for i in range(1,smaller+1):\n",
    "        \n",
    "        if((x % i == 0) and (y % i== 0)):\n",
    "            hcf = i\n",
    "            \n",
    "        \n",
    "    return hcf"
   ]
  },
  {
   "cell_type": "code",
   "execution_count": 12,
   "id": "9f91ef8c",
   "metadata": {},
   "outputs": [
    {
     "name": "stdout",
     "output_type": "stream",
     "text": [
      "Enter first number:  8\n",
      "Enter second number:  12\n",
      "The H.C.F 8 and 12 are 4\n"
     ]
    }
   ],
   "source": [
    "num1 = int(input(\"Enter first number:  \"))\n",
    "num2 = int(input(\"Enter second number:  \"))\n",
    "print(\"The H.C.F\",num1,\"and\",num2,\"are\",hcf(num1,num2))"
   ]
  },
  {
   "cell_type": "markdown",
   "id": "68d25819",
   "metadata": {},
   "source": [
    "Write a Python Program to Convert Decimal to Binary, Octal and Hexadecimal?"
   ]
  },
  {
   "cell_type": "code",
   "execution_count": 14,
   "id": "48211813",
   "metadata": {},
   "outputs": [
    {
     "name": "stdout",
     "output_type": "stream",
     "text": [
      "Enter the decimal number:  344\n",
      "0b101011000 in binary\n",
      "0o530 in octal\n",
      "0x158 in hexadecimal\n"
     ]
    }
   ],
   "source": [
    "num = int(input(\"Enter the decimal number:  \"))\n",
    "print(bin(num),\"in binary\")\n",
    "print(oct(num),\"in octal\")\n",
    "print(hex(num),\"in hexadecimal\")"
   ]
  },
  {
   "cell_type": "markdown",
   "id": "c1e89e30",
   "metadata": {},
   "source": [
    "Write a Python Program To Find ASCII value of a character?\n"
   ]
  },
  {
   "cell_type": "code",
   "execution_count": 15,
   "id": "b7f796b1",
   "metadata": {},
   "outputs": [
    {
     "name": "stdout",
     "output_type": "stream",
     "text": [
      "Enter the element:  p\n",
      "The ASCII value of 'p' is 112\n"
     ]
    }
   ],
   "source": [
    "\n",
    "\n",
    "A = input(\"Enter the element:  \")\n",
    "print(\"The ASCII value of '\" + A + \"' is\", ord(A))\n"
   ]
  },
  {
   "cell_type": "markdown",
   "id": "65664e25",
   "metadata": {},
   "source": [
    "Write a Python Program to Make a Simple Calculator with 4 basic mathematical operations?"
   ]
  },
  {
   "cell_type": "code",
   "execution_count": 16,
   "id": "3c7d7ed0",
   "metadata": {},
   "outputs": [
    {
     "name": "stdout",
     "output_type": "stream",
     "text": [
      "Please select the operation.\n",
      "a. Add\n",
      "b. Subtract\n",
      "c. Multiply\n",
      "d. Divide\n",
      "Please enter choice (a/ b/ c/ d): a\n",
      "Please enter the first number: 5\n",
      "Please enter the second number: 2\n",
      "5  +  2  =  7\n"
     ]
    }
   ],
   "source": [
    "def add(P, Q):      \n",
    "    return P + Q   \n",
    "def subtract(P, Q):   \n",
    "    return P - Q   \n",
    "def multiply(P, Q):     \n",
    "    return P * Q   \n",
    "def divide(P, Q):   \n",
    "    return P / Q    \n",
    "  \n",
    "print (\"Please select the operation.\")    \n",
    "print (\"a. Add\")    \n",
    "print (\"b. Subtract\")    \n",
    "print (\"c. Multiply\")    \n",
    "print (\"d. Divide\")    \n",
    "    \n",
    "choice = input(\"Please enter choice (a/ b/ c/ d): \")    \n",
    "    \n",
    "num_1 = int (input (\"Please enter the first number: \"))    \n",
    "num_2 = int (input (\"Please enter the second number: \"))    \n",
    "    \n",
    "if choice == 'a':    \n",
    "   print (num_1, \" + \", num_2, \" = \", add(num_1, num_2))    \n",
    "    \n",
    "elif choice == 'b':    \n",
    "   print (num_1, \" - \", num_2, \" = \", subtract(num_1, num_2))    \n",
    "    \n",
    "elif choice == 'c':    \n",
    "   print (num1, \" * \", num2, \" = \", multiply(num1, num2))    \n",
    "elif choice == 'd':    \n",
    "   print (num_1, \" / \", num_2, \" = \", divide(num_1, num_2))    \n",
    "else:    \n",
    "   print (\"This is an invalid input\")    "
   ]
  },
  {
   "cell_type": "code",
   "execution_count": null,
   "id": "943c63f0",
   "metadata": {},
   "outputs": [],
   "source": []
  }
 ],
 "metadata": {
  "kernelspec": {
   "display_name": "Python 3 (ipykernel)",
   "language": "python",
   "name": "python3"
  },
  "language_info": {
   "codemirror_mode": {
    "name": "ipython",
    "version": 3
   },
   "file_extension": ".py",
   "mimetype": "text/x-python",
   "name": "python",
   "nbconvert_exporter": "python",
   "pygments_lexer": "ipython3",
   "version": "3.9.7"
  }
 },
 "nbformat": 4,
 "nbformat_minor": 5
}
