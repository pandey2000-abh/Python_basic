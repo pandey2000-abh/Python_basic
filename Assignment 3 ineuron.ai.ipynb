{
 "cells": [
  {
   "cell_type": "markdown",
   "id": "f355c53d",
   "metadata": {},
   "source": [
    "1. Why are functions advantageous to have in your programs?\n"
   ]
  },
  {
   "cell_type": "markdown",
   "id": "b123a809",
   "metadata": {},
   "source": [
    "Functions reduce the need for duplicate code. This makes programs shorter, easier to read, and easier to update."
   ]
  },
  {
   "cell_type": "markdown",
   "id": "08ff3aef",
   "metadata": {},
   "source": [
    "2. When does the code in a function run: when it's specified or when it's called?"
   ]
  },
  {
   "cell_type": "markdown",
   "id": "69d6958f",
   "metadata": {},
   "source": [
    "When a function is \"called\" the program \"leaves\" the current section of code and begins to execute the first line inside the function."
   ]
  },
  {
   "cell_type": "markdown",
   "id": "050829da",
   "metadata": {},
   "source": [
    "3. What statement creates a function?"
   ]
  },
  {
   "cell_type": "markdown",
   "id": "bcf22261",
   "metadata": {},
   "source": [
    "To create a function, we must first declare it and give it a name, the same way we'd create any variable, and then we follow it by a function definition. We could put any code inside that function - one statement, multiple statements - depends on what we want to do."
   ]
  },
  {
   "cell_type": "markdown",
   "id": "8f1a459c",
   "metadata": {},
   "source": [
    "4. What is the difference between a function and a function call?\n"
   ]
  },
  {
   "cell_type": "markdown",
   "id": "b57a1897",
   "metadata": {},
   "source": [
    "A function is a block of code that does a particular operation and returns a result. It usually accepts inputs as parameters and returns a result. The parameters are not mandatory.\n",
    "A function call is the code used to pass control to a function."
   ]
  },
  {
   "cell_type": "markdown",
   "id": "676a4f27",
   "metadata": {},
   "source": [
    "5. How many global scopes are there in a Python program? How many local scopes?\n"
   ]
  },
  {
   "cell_type": "markdown",
   "id": "f4d86746",
   "metadata": {},
   "source": [
    "\n",
    "If you operate with the same variable name inside and outside of a function, Python will treat them as two separate variables, one available in the global scope (outside the function) and one available in the local scope (inside the function):\n"
   ]
  },
  {
   "cell_type": "markdown",
   "id": "4d30fcaa",
   "metadata": {},
   "source": [
    "6. What happens to variables in a local scope when the function call returns?"
   ]
  },
  {
   "cell_type": "markdown",
   "id": "fc0014fe",
   "metadata": {},
   "source": [
    "When the execution of the function terminates (returns), the local variables are destroyed."
   ]
  },
  {
   "cell_type": "markdown",
   "id": "b66837cd",
   "metadata": {},
   "source": [
    "7. What is the concept of a return value? Is it possible to have a return value in an expression?\n"
   ]
  },
  {
   "cell_type": "markdown",
   "id": "014a6270",
   "metadata": {},
   "source": [
    "A return is a value that a function returns to the calling script or function when it completes its task.\n",
    "A return value can be any one of the four variable types: handle, integer, object, or string. \n",
    "The type of value your function returns depends largely on the task it performs.\n",
    "yes, it possible to have a return value in an expression"
   ]
  },
  {
   "cell_type": "markdown",
   "id": "ba33e077",
   "metadata": {},
   "source": [
    "8. If a function does not have a return statement, what is the return value of a call to that function?"
   ]
  },
  {
   "cell_type": "markdown",
   "id": "1a48d813",
   "metadata": {},
   "source": [
    "If no return statement appears in a function definition, control automatically returns to the calling function after the last statement of the called function is executed. \n",
    "In this case, the return value of the called function is undefined."
   ]
  },
  {
   "cell_type": "markdown",
   "id": "78311faa",
   "metadata": {},
   "source": [
    "9. How do you make a function variable refer to the global variable?"
   ]
  },
  {
   "cell_type": "markdown",
   "id": "70267c2b",
   "metadata": {},
   "source": [
    " \n",
    "To create a global variable inside a function, you can use the global keyword."
   ]
  },
  {
   "cell_type": "markdown",
   "id": "30d8ac67",
   "metadata": {},
   "source": [
    "10.What is the data type of None?"
   ]
  },
  {
   "cell_type": "markdown",
   "id": "56ec340c",
   "metadata": {},
   "source": [
    "The None keyword is used to define a null value, or no value at all. None is not the same as 0, False, or an empty string. \n",
    "None is a data type of its own (NoneType) and only None can be None.\n",
    "\n"
   ]
  },
  {
   "cell_type": "markdown",
   "id": "2fbb76cf",
   "metadata": {},
   "source": [
    "11. What does the sentence import areallyourpetsnamederic do?"
   ]
  },
  {
   "cell_type": "markdown",
   "id": "996c1c4f",
   "metadata": {},
   "source": [
    "That import statement imports a module named areallyourpetsnamederic."
   ]
  },
  {
   "cell_type": "markdown",
   "id": "4c826d9d",
   "metadata": {},
   "source": [
    "12. If you had a bacon() feature in a spam module, what would you call it after importing spam?\n"
   ]
  },
  {
   "cell_type": "markdown",
   "id": "103f77f1",
   "metadata": {},
   "source": [
    "This function can be called with spam.bacon()."
   ]
  },
  {
   "cell_type": "markdown",
   "id": "ede09622",
   "metadata": {},
   "source": [
    "13. What can you do to save a programme from crashing if it encounters an error?\n"
   ]
  },
  {
   "cell_type": "markdown",
   "id": "95420353",
   "metadata": {},
   "source": [
    " error handling can be used to notify the user of why the error occurred and gracefully exit the process that caused the error"
   ]
  },
  {
   "cell_type": "markdown",
   "id": "ae35d56d",
   "metadata": {},
   "source": [
    "\n",
    "14. What is the purpose of the try clause? What is the purpose of the except clause?\n"
   ]
  },
  {
   "cell_type": "markdown",
   "id": "b8ff201a",
   "metadata": {},
   "source": [
    "The try block lets you test a block of code for errors. The except block lets you handle the error."
   ]
  },
  {
   "cell_type": "code",
   "execution_count": null,
   "id": "1b2f7ac4",
   "metadata": {},
   "outputs": [],
   "source": []
  }
 ],
 "metadata": {
  "kernelspec": {
   "display_name": "Python 3 (ipykernel)",
   "language": "python",
   "name": "python3"
  },
  "language_info": {
   "codemirror_mode": {
    "name": "ipython",
    "version": 3
   },
   "file_extension": ".py",
   "mimetype": "text/x-python",
   "name": "python",
   "nbconvert_exporter": "python",
   "pygments_lexer": "ipython3",
   "version": "3.9.7"
  }
 },
 "nbformat": 4,
 "nbformat_minor": 5
}
