{
 "cells": [
  {
   "cell_type": "markdown",
   "id": "d57fb48d",
   "metadata": {},
   "source": [
    "Write a Python Program to Find the Factorial of a Number?"
   ]
  },
  {
   "cell_type": "code",
   "execution_count": 7,
   "id": "f81b937d",
   "metadata": {},
   "outputs": [
    {
     "name": "stdout",
     "output_type": "stream",
     "text": [
      "Enter the number:  5\n",
      " factorial of 5 are: 120\n"
     ]
    }
   ],
   "source": [
    "num = int(input(\"Enter the number:  \"))\n",
    "fact = 1\n",
    "if num < 0:\n",
    "    print(\"sorry factorial is not possible\")\n",
    "elif num == 0:\n",
    "    print(\"factorial of 0 is 1 \")\n",
    "else:\n",
    "    for i in range(1,num+1):\n",
    "        fact = fact * i\n",
    "    print(f\" factorial of {num} are: {fact}\")"
   ]
  },
  {
   "cell_type": "markdown",
   "id": "9811fcc3",
   "metadata": {},
   "source": [
    "Write a Python Program to Display the multiplication Table?\n"
   ]
  },
  {
   "cell_type": "code",
   "execution_count": 8,
   "id": "88c016ac",
   "metadata": {},
   "outputs": [
    {
     "name": "stdout",
     "output_type": "stream",
     "text": [
      "Enter the number:  5\n",
      "5 X 1 == 5\n",
      "5 X 2 == 10\n",
      "5 X 3 == 15\n",
      "5 X 4 == 20\n",
      "5 X 5 == 25\n",
      "5 X 6 == 30\n",
      "5 X 7 == 35\n",
      "5 X 8 == 40\n",
      "5 X 9 == 45\n",
      "5 X 10 == 50\n"
     ]
    }
   ],
   "source": [
    "num = int(input(\"Enter the number:  \"))\n",
    "for i in range(1,11):\n",
    "    print(f\"{num} X {i} == {num*i}\")"
   ]
  },
  {
   "cell_type": "markdown",
   "id": "f7e21ce5",
   "metadata": {},
   "source": [
    "Write a Python Program to Print the Fibonacci sequence?"
   ]
  },
  {
   "cell_type": "code",
   "execution_count": 10,
   "id": "55976bc3",
   "metadata": {},
   "outputs": [
    {
     "name": "stdout",
     "output_type": "stream",
     "text": [
      "Enter the number:  10\n",
      "fibonacci sequence are  0 1 1 2 3 5 8 13 21 34 \n"
     ]
    }
   ],
   "source": [
    "num = int(input(\"Enter the number:  \"))\n",
    "n1 = 0\n",
    "n2 = 1\n",
    "print(\"fibonacci sequence are \",n1,n2,end = \" \")\n",
    "for i in range(2,num):\n",
    "    n3 = n1 + n2\n",
    "    n1 = n2\n",
    "    n2 = n3\n",
    "    print(n3,end=\" \")\n",
    "print()"
   ]
  },
  {
   "cell_type": "markdown",
   "id": "88395dfd",
   "metadata": {},
   "source": [
    "Write a Python Program to Check Armstrong Number?\n"
   ]
  },
  {
   "cell_type": "code",
   "execution_count": 3,
   "id": "f203aead",
   "metadata": {},
   "outputs": [
    {
     "name": "stdout",
     "output_type": "stream",
     "text": [
      "Enter the number:  371\n",
      "371, is a Armstrong number\n"
     ]
    }
   ],
   "source": [
    "num = int(input(\"Enter the number:  \"))\n",
    "sum = 0\n",
    "n = len(str(num))\n",
    "temp = num\n",
    "while temp > 0:\n",
    "    digit = temp % 10\n",
    "    sum += digit**n\n",
    "    temp //= 10\n",
    "if  num == sum:\n",
    "    print(f\"{num}, is a Armstrong number\")\n",
    "else:\n",
    "    print(f\"{num},is not a Armstrong number\")"
   ]
  },
  {
   "cell_type": "markdown",
   "id": "042cd88e",
   "metadata": {},
   "source": [
    "Write a Python Program to Find Armstrong Number in an Interval?"
   ]
  },
  {
   "cell_type": "code",
   "execution_count": 7,
   "id": "625a3c9c",
   "metadata": {},
   "outputs": [
    {
     "name": "stdout",
     "output_type": "stream",
     "text": [
      "Enter the number of lower_bound:  100\n",
      "Enter the number of upper_bound:  2000\n",
      "153\n",
      "370\n",
      "371\n",
      "407\n",
      "1634\n"
     ]
    }
   ],
   "source": [
    "lower_bound = int(input(\"Enter the number of lower_bound:  \"))\n",
    "upper_bound = int(input(\"Enter the number of upper_bound:  \"))\n",
    "for num in range(lower_bound,upper_bound+1):\n",
    "    sum = 0\n",
    "    n = len(str(num))\n",
    "    temp = num\n",
    "    while temp > 0:\n",
    "        digit = temp % 10\n",
    "        sum += digit**n\n",
    "        temp //= 10\n",
    "    if num == sum:\n",
    "        print(num)"
   ]
  },
  {
   "cell_type": "markdown",
   "id": "2eeedec8",
   "metadata": {},
   "source": [
    "Write a Python Program to Find the Sum of Natural Numbers?"
   ]
  },
  {
   "cell_type": "code",
   "execution_count": 10,
   "id": "643a4dc3",
   "metadata": {},
   "outputs": [
    {
     "name": "stdout",
     "output_type": "stream",
     "text": [
      "Enter the number 15\n",
      "120\n"
     ]
    }
   ],
   "source": [
    "num = int(input(\"Enter the number \"))\n",
    "sum = 0\n",
    "for i in range(0,num+1):\n",
    "    sum = sum+i\n",
    "print(sum)"
   ]
  },
  {
   "cell_type": "code",
   "execution_count": null,
   "id": "a0428ed2",
   "metadata": {},
   "outputs": [],
   "source": []
  }
 ],
 "metadata": {
  "kernelspec": {
   "display_name": "Python 3 (ipykernel)",
   "language": "python",
   "name": "python3"
  },
  "language_info": {
   "codemirror_mode": {
    "name": "ipython",
    "version": 3
   },
   "file_extension": ".py",
   "mimetype": "text/x-python",
   "name": "python",
   "nbconvert_exporter": "python",
   "pygments_lexer": "ipython3",
   "version": "3.9.7"
  }
 },
 "nbformat": 4,
 "nbformat_minor": 5
}
